{
 "metadata": {
  "language_info": {
   "codemirror_mode": {
    "name": "ipython",
    "version": 3
   },
   "file_extension": ".py",
   "mimetype": "text/x-python",
   "name": "python",
   "nbconvert_exporter": "python",
   "pygments_lexer": "ipython3",
   "version": "3.8.5-final"
  },
  "orig_nbformat": 2,
  "kernelspec": {
   "name": "python38564bitvenv5c381d5768c341b7970b8db8824f9a24",
   "display_name": "Python 3.8.5 64-bit ('venv')",
   "language": "python"
  }
 },
 "nbformat": 4,
 "nbformat_minor": 2,
 "cells": [
  {
   "cell_type": "code",
   "execution_count": 1,
   "metadata": {},
   "outputs": [],
   "source": [
    "import pandas as pd\n",
    "import numpy as np\n",
    "import matplotlib.pyplot as plt\n",
    "import seaborn as sns\n",
    "import warnings\n",
    "warnings.filterwarnings('ignore')\n",
    "\n"
   ]
  },
  {
   "cell_type": "code",
   "execution_count": 3,
   "metadata": {},
   "outputs": [],
   "source": [
    "# import dataset"
   ]
  },
  {
   "cell_type": "code",
   "execution_count": 26,
   "metadata": {},
   "outputs": [
    {
     "output_type": "error",
     "ename": "AttributeError",
     "evalue": "'NoneType' object has no attribute 'countplot'",
     "traceback": [
      "\u001b[0;31m---------------------------------------------------------------------------\u001b[0m",
      "\u001b[0;31mAttributeError\u001b[0m                            Traceback (most recent call last)",
      "\u001b[0;32m<ipython-input-26-1eb4e0ece5a9>\u001b[0m in \u001b[0;36m<module>\u001b[0;34m\u001b[0m\n\u001b[1;32m      2\u001b[0m \u001b[0marticles_test\u001b[0m \u001b[0;34m=\u001b[0m \u001b[0mpd\u001b[0m\u001b[0;34m.\u001b[0m\u001b[0mread_csv\u001b[0m\u001b[0;34m(\u001b[0m\u001b[0;34m'data/Test.csv'\u001b[0m\u001b[0;34m)\u001b[0m\u001b[0;34m\u001b[0m\u001b[0;34m\u001b[0m\u001b[0m\n\u001b[1;32m      3\u001b[0m \u001b[0marticles_test\u001b[0m\u001b[0;34m.\u001b[0m\u001b[0mhead\u001b[0m\u001b[0;34m(\u001b[0m\u001b[0;34m)\u001b[0m\u001b[0;34m\u001b[0m\u001b[0;34m\u001b[0m\u001b[0m\n\u001b[0;32m----> 4\u001b[0;31m \u001b[0max\u001b[0m \u001b[0;34m=\u001b[0m \u001b[0msns\u001b[0m\u001b[0;34m.\u001b[0m\u001b[0mcountplot\u001b[0m\u001b[0;34m(\u001b[0m\u001b[0mx\u001b[0m\u001b[0;34m=\u001b[0m\u001b[0;34m\"Label\"\u001b[0m\u001b[0;34m,\u001b[0m \u001b[0mdata\u001b[0m\u001b[0;34m=\u001b[0m\u001b[0mdf\u001b[0m\u001b[0;34m)\u001b[0m\u001b[0;34m\u001b[0m\u001b[0;34m\u001b[0m\u001b[0m\n\u001b[0m",
      "\u001b[0;31mAttributeError\u001b[0m: 'NoneType' object has no attribute 'countplot'"
     ]
    }
   ],
   "source": [
    "articles_train = pd.read_csv('data/Train.csv')\n",
    "articles_test = pd.read_csv('data/Test.csv')\n",
    "articles_test.head()\n",
    "ax = sns.countplot(x=\"Label\", data=df)\n"
   ]
  },
  {
   "cell_type": "code",
   "execution_count": 5,
   "metadata": {},
   "outputs": [],
   "source": [
    "#preprocessing\n",
    "#rename columns\n",
    "articles_train = articles_train.rename(columns={'Label':'Categories','Text':'Headlines'})\n"
   ]
  },
  {
   "cell_type": "code",
   "execution_count": 6,
   "metadata": {},
   "outputs": [
    {
     "output_type": "execute_result",
     "data": {
      "text/plain": [
       "0     mwangonde: khansala wachinyamata akamati achi...\n",
       "1     mcp siidakhutire ndi kalembera chipani cha ma...\n",
       "2    bungwe la manepo lapempha boma liganizire anth...\n",
       "3     ndale zogawanitsa miyambo zanyanya si zachile...\n",
       "4     nanga wapolisi ataphofomoka? masiku ano sichi...\n",
       "Name: Headlines, dtype: object"
      ]
     },
     "metadata": {},
     "execution_count": 6
    }
   ],
   "source": [
    "\n",
    "def clean_lower(text):\n",
    "    return str(text).lower()\n",
    "articles_train['Headlines'] = articles_train['Headlines'].apply(clean_lower)\n",
    "articles_train['Headlines'].head()"
   ]
  },
  {
   "cell_type": "code",
   "execution_count": 7,
   "metadata": {},
   "outputs": [
    {
     "output_type": "stream",
     "name": "stdout",
     "text": [
      "\nHeadline\n mwangonde: khansala wachinyamata akamati achinyamata ndi atsogoleri a mawa, ambiri amaganiza kuti izi ndi nkhambakamwa chabe. koma achinyamata ena, monga lusubilo mwangonde, akukwaniritsa akupherezetsa mawuwa osati pongolota kuti adzakhala, koma kutsogolera kumene chifukwa nthawi yawo yakwana. dailes banda adacheza ndi mwangonde, khansala wachinyama, yemwe akuimira jumbo ward mumzinda wa mzuzu, motere:  chisale watuluka nkumangidwanso  sipakala waimitsa nyumba ya malamulo  pa wenela pasintha zedi ali ndi masomphenya: mwangonde tikudziweni  ndine lusubilo mwangonde, ndili ndi zaka 27 zakubadwa. ndinabadwa mbanja la ana asanu ndipo ndine wachinayi kubadwa. ndimachokera mmudzi mwa mwamalopa, kwa paramount chief kyungu mboma la karonga. sindili pabanja pakadalipano.\n mbiri ya maphunziro anu ndi yotani? maphunziro anga a pulaimale ndidachitira kusukula yapulaiveti ya viphya mumzinda wa mzuzu ndipo asekondale ndidachitira pa phwezi boys mboma la rumphi. ndili ndi diploma ya accounting ndipo pakadalipano ndikupanga digiri komanso chartered accounting kusukulu ya malawi college of accountancy (mca).\n mudayamba bwanji zandale? kuyambira ndili wachichepere, zaka 12, ndakhala ndikukhala mumaudindo a utgogoleri. ichi ndi china mwa zinthu zomwe zidandilimbikitsa kuti ndikhoza kudzapambana pazisankho. koma chachikulu chomwe chidandichititsa kuti ndilowe ukhansala chidali chifukwa chakuti ndinkafuna kupereka mpata kwa anthu kuti azitha kuyankhula zakukhosi kwawo polimbikitsa demokalase ndi chitukuko.\n ntchito mukugwira ndi zomwe munkayembekezera? eya, ndiponso ndinkayembekezera zambiri.\n masomphenya anu ndi otani pandale? ine ndine munthu wokhulupirira mulungu ndipo ndili ndi chikhulupiriro choti iye ndi amene adzandionetsere zomwe ndikuyera kuchita ndi tsogolo langa.\n zinthu zina zomwe mumachita ndi chiyani pambali pa ukhansala? ndikakhala sindikugwira ntchito yaukhansala ndimakhala ndikuchita bizinesi, nthawi zina ndimakhala ndili kusukulu komwe ndikuchita maphuro anga a digiri. kuonjezera pamenepo ndili ndi bungwe lomwe ndidayambitsa ndi anzanga ena la centre for participatory democracy lomwe limalimbikitsa demokalase.\n zomwe mwakwanitsa ndi zotani? ndathandiza kuti ntchito yopala misewu ya kudera la moyale itheke. misewuyi yakhala nthawi yaitali osapalidwa. ndidathandiziranso kuti ochita malonda ayambe kumanga mashopu anjerwa ndi kusiya kumangira matabwa kapena zigwagwa. ndidakwanitsanso kukaimirira khonsolo ya mzuzu ku nyumba ya malamulo. ndaonanso kuti ntchitoyi yandithandiza kusintha momwe ndimaonera zinthu komanso ndimakumana ndi anthu osiyanasiyana omwe amandiphunzitsa zinthu zambiri.\n\n\n\nCategory\nPOLITICS\n\n\n"
     ]
    }
   ],
   "source": [
    "#articles_train = articles_train.rename(columns={'Text':'Headlines'})\n",
    "news_example = articles_train.iloc[0]\n",
    "print(f\"\"\"\n",
    "Headline\n",
    "{news_example['Headlines']}\n",
    "\n",
    "\n",
    "Category\n",
    "{news_example['Categories']}\n",
    "\n",
    "\"\"\")"
   ]
  },
  {
   "cell_type": "code",
   "execution_count": 8,
   "metadata": {},
   "outputs": [
    {
     "output_type": "execute_result",
     "data": {
      "text/plain": [
       "0    [mwangonde, khansala, wachinyamata, akamati, a...\n",
       "1    [mcp, siidakhutire, ndi, kalembera, chipani, c...\n",
       "2    [bungwe, la, manepo, lapempha, boma, liganizir...\n",
       "3    [ndale, zogawanitsa, miyambo, zanyanya, si, za...\n",
       "4    [nanga, wapolisi, ataphofomoka, masiku, ano, s...\n",
       "Name: Headlines, dtype: object"
      ]
     },
     "metadata": {},
     "execution_count": 8
    }
   ],
   "source": [
    "#tokenize :split text to smaller pieces using NLTK\n",
    "import nltk\n",
    "from nltk.tokenize import RegexpTokenizer, word_tokenize\n",
    "import regex\n",
    "\n",
    "tokenizer = RegexpTokenizer(\"[\\w']+\") \n",
    "\n",
    "def clean_tokenization(headline):\n",
    "    return tokenizer.tokenize(str(headline))\n",
    "\n",
    "articles_train['Headlines'] = articles_train['Headlines'].apply(clean_tokenization)\n",
    "articles_train['Headlines'].head()"
   ]
  },
  {
   "cell_type": "code",
   "execution_count": 9,
   "metadata": {},
   "outputs": [],
   "source": [
    "#word frequency\n",
    "from collections import Counter"
   ]
  },
  {
   "cell_type": "code",
   "execution_count": 10,
   "metadata": {},
   "outputs": [
    {
     "output_type": "execute_result",
     "data": {
      "text/plain": [
       "ID            0\n",
       "Headlines     0\n",
       "Categories    0\n",
       "dtype: int64"
      ]
     },
     "metadata": {},
     "execution_count": 10
    }
   ],
   "source": [
    "# Data Exploration\n",
    "#articles_train.info()\n",
    "#no of missong values\n",
    "articles_train.isna().sum()"
   ]
  },
  {
   "cell_type": "code",
   "execution_count": 78,
   "metadata": {},
   "outputs": [
    {
     "output_type": "stream",
     "name": "stdout",
     "text": [
      "\nHeadline\n mwangonde: khansala wachinyamata akamati achinyamata ndi atsogoleri a mawa, ambiri amaganiza kuti izi ndi nkhambakamwa chabe. koma achinyamata ena, monga lusubilo mwangonde, akukwaniritsa akupherezetsa mawuwa osati pongolota kuti adzakhala, koma kutsogolera kumene chifukwa nthawi yawo yakwana. dailes banda adacheza ndi mwangonde, khansala wachinyama, yemwe akuimira jumbo ward mumzinda wa mzuzu, motere:  chisale watuluka nkumangidwanso  sipakala waimitsa nyumba ya malamulo  pa wenela pasintha zedi ali ndi masomphenya: mwangonde tikudziweni  ndine lusubilo mwangonde, ndili ndi zaka 27 zakubadwa. ndinabadwa mbanja la ana asanu ndipo ndine wachinayi kubadwa. ndimachokera mmudzi mwa mwamalopa, kwa paramount chief kyungu mboma la karonga. sindili pabanja pakadalipano.\n mbiri ya maphunziro anu ndi yotani? maphunziro anga a pulaimale ndidachitira kusukula yapulaiveti ya viphya mumzinda wa mzuzu ndipo asekondale ndidachitira pa phwezi boys mboma la rumphi. ndili ndi diploma ya accounting ndipo pakadalipano ndikupanga digiri komanso chartered accounting kusukulu ya malawi college of accountancy (mca).\n mudayamba bwanji zandale? kuyambira ndili wachichepere, zaka 12, ndakhala ndikukhala mumaudindo a utgogoleri. ichi ndi china mwa zinthu zomwe zidandilimbikitsa kuti ndikhoza kudzapambana pazisankho. koma chachikulu chomwe chidandichititsa kuti ndilowe ukhansala chidali chifukwa chakuti ndinkafuna kupereka mpata kwa anthu kuti azitha kuyankhula zakukhosi kwawo polimbikitsa demokalase ndi chitukuko.\n ntchito mukugwira ndi zomwe munkayembekezera? eya, ndiponso ndinkayembekezera zambiri.\n masomphenya anu ndi otani pandale? ine ndine munthu wokhulupirira mulungu ndipo ndili ndi chikhulupiriro choti iye ndi amene adzandionetsere zomwe ndikuyera kuchita ndi tsogolo langa.\n zinthu zina zomwe mumachita ndi chiyani pambali pa ukhansala? ndikakhala sindikugwira ntchito yaukhansala ndimakhala ndikuchita bizinesi, nthawi zina ndimakhala ndili kusukulu komwe ndikuchita maphuro anga a digiri. kuonjezera pamenepo ndili ndi bungwe lomwe ndidayambitsa ndi anzanga ena la centre for participatory democracy lomwe limalimbikitsa demokalase.\n zomwe mwakwanitsa ndi zotani? ndathandiza kuti ntchito yopala misewu ya kudera la moyale itheke. misewuyi yakhala nthawi yaitali osapalidwa. ndidathandiziranso kuti ochita malonda ayambe kumanga mashopu anjerwa ndi kusiya kumangira matabwa kapena zigwagwa. ndidakwanitsanso kukaimirira khonsolo ya mzuzu ku nyumba ya malamulo. ndaonanso kuti ntchitoyi yandithandiza kusintha momwe ndimaonera zinthu komanso ndimakumana ndi anthu osiyanasiyana omwe amandiphunzitsa zinthu zambiri.\n\n\n\nCategory\nPOLITICS\n\n\n"
     ]
    }
   ],
   "source": []
  },
  {
   "cell_type": "code",
   "execution_count": 11,
   "metadata": {},
   "outputs": [
    {
     "output_type": "execute_result",
     "data": {
      "text/plain": [
       "              Categories  Headlines\n",
       "0        ARTS AND CRAFTS          7\n",
       "1                CULTURE         23\n",
       "2                ECONOMY         86\n",
       "3              EDUCATION         43\n",
       "4                FARMING         78\n",
       "5               FLOODING          7\n",
       "6                 HEALTH        127\n",
       "7              LAW/ORDER        136\n",
       "8            LOCALCHIEFS         25\n",
       "9                  MUSIC         15\n",
       "10         OPINION/ESSAY         26\n",
       "11              POLITICS        279\n",
       "12         RELATIONSHIPS         39\n",
       "13              RELIGION        147\n",
       "14                SOCIAL        152\n",
       "15         SOCIAL ISSUES        134\n",
       "16                SPORTS         49\n",
       "17             TRANSPORT         11\n",
       "18  WILDLIFE/ENVIRONMENT         36\n",
       "19            WITCHCRAFT         16"
      ],
      "text/html": "<div>\n<style scoped>\n    .dataframe tbody tr th:only-of-type {\n        vertical-align: middle;\n    }\n\n    .dataframe tbody tr th {\n        vertical-align: top;\n    }\n\n    .dataframe thead th {\n        text-align: right;\n    }\n</style>\n<table border=\"1\" class=\"dataframe\">\n  <thead>\n    <tr style=\"text-align: right;\">\n      <th></th>\n      <th>Categories</th>\n      <th>Headlines</th>\n    </tr>\n  </thead>\n  <tbody>\n    <tr>\n      <th>0</th>\n      <td>ARTS AND CRAFTS</td>\n      <td>7</td>\n    </tr>\n    <tr>\n      <th>1</th>\n      <td>CULTURE</td>\n      <td>23</td>\n    </tr>\n    <tr>\n      <th>2</th>\n      <td>ECONOMY</td>\n      <td>86</td>\n    </tr>\n    <tr>\n      <th>3</th>\n      <td>EDUCATION</td>\n      <td>43</td>\n    </tr>\n    <tr>\n      <th>4</th>\n      <td>FARMING</td>\n      <td>78</td>\n    </tr>\n    <tr>\n      <th>5</th>\n      <td>FLOODING</td>\n      <td>7</td>\n    </tr>\n    <tr>\n      <th>6</th>\n      <td>HEALTH</td>\n      <td>127</td>\n    </tr>\n    <tr>\n      <th>7</th>\n      <td>LAW/ORDER</td>\n      <td>136</td>\n    </tr>\n    <tr>\n      <th>8</th>\n      <td>LOCALCHIEFS</td>\n      <td>25</td>\n    </tr>\n    <tr>\n      <th>9</th>\n      <td>MUSIC</td>\n      <td>15</td>\n    </tr>\n    <tr>\n      <th>10</th>\n      <td>OPINION/ESSAY</td>\n      <td>26</td>\n    </tr>\n    <tr>\n      <th>11</th>\n      <td>POLITICS</td>\n      <td>279</td>\n    </tr>\n    <tr>\n      <th>12</th>\n      <td>RELATIONSHIPS</td>\n      <td>39</td>\n    </tr>\n    <tr>\n      <th>13</th>\n      <td>RELIGION</td>\n      <td>147</td>\n    </tr>\n    <tr>\n      <th>14</th>\n      <td>SOCIAL</td>\n      <td>152</td>\n    </tr>\n    <tr>\n      <th>15</th>\n      <td>SOCIAL ISSUES</td>\n      <td>134</td>\n    </tr>\n    <tr>\n      <th>16</th>\n      <td>SPORTS</td>\n      <td>49</td>\n    </tr>\n    <tr>\n      <th>17</th>\n      <td>TRANSPORT</td>\n      <td>11</td>\n    </tr>\n    <tr>\n      <th>18</th>\n      <td>WILDLIFE/ENVIRONMENT</td>\n      <td>36</td>\n    </tr>\n    <tr>\n      <th>19</th>\n      <td>WITCHCRAFT</td>\n      <td>16</td>\n    </tr>\n  </tbody>\n</table>\n</div>"
     },
     "metadata": {},
     "execution_count": 11
    }
   ],
   "source": [
    "articles_train = articles_train[['Categories', 'Headlines']]\n",
    "data_type = articles_train.groupby('Categories').count()['Headlines'].reset_index()\n",
    "data_type\n"
   ]
  },
  {
   "cell_type": "code",
   "execution_count": 12,
   "metadata": {},
   "outputs": [
    {
     "output_type": "execute_result",
     "data": {
      "text/plain": [
       "  Categories                                          Headlines  \\\n",
       "0   POLITICS  [mwangonde, khansala, wachinyamata, akamati, a...   \n",
       "1   POLITICS  [mcp, siidakhutire, ndi, kalembera, chipani, c...   \n",
       "2     HEALTH  [bungwe, la, manepo, lapempha, boma, liganizir...   \n",
       "3   POLITICS  [ndale, zogawanitsa, miyambo, zanyanya, si, za...   \n",
       "4  LAW/ORDER  [nanga, wapolisi, ataphofomoka, masiku, ano, s...   \n",
       "\n",
       "   category_target  \n",
       "0                0  \n",
       "1                0  \n",
       "2                1  \n",
       "3                0  \n",
       "4                2  "
      ],
      "text/html": "<div>\n<style scoped>\n    .dataframe tbody tr th:only-of-type {\n        vertical-align: middle;\n    }\n\n    .dataframe tbody tr th {\n        vertical-align: top;\n    }\n\n    .dataframe thead th {\n        text-align: right;\n    }\n</style>\n<table border=\"1\" class=\"dataframe\">\n  <thead>\n    <tr style=\"text-align: right;\">\n      <th></th>\n      <th>Categories</th>\n      <th>Headlines</th>\n      <th>category_target</th>\n    </tr>\n  </thead>\n  <tbody>\n    <tr>\n      <th>0</th>\n      <td>POLITICS</td>\n      <td>[mwangonde, khansala, wachinyamata, akamati, a...</td>\n      <td>0</td>\n    </tr>\n    <tr>\n      <th>1</th>\n      <td>POLITICS</td>\n      <td>[mcp, siidakhutire, ndi, kalembera, chipani, c...</td>\n      <td>0</td>\n    </tr>\n    <tr>\n      <th>2</th>\n      <td>HEALTH</td>\n      <td>[bungwe, la, manepo, lapempha, boma, liganizir...</td>\n      <td>1</td>\n    </tr>\n    <tr>\n      <th>3</th>\n      <td>POLITICS</td>\n      <td>[ndale, zogawanitsa, miyambo, zanyanya, si, za...</td>\n      <td>0</td>\n    </tr>\n    <tr>\n      <th>4</th>\n      <td>LAW/ORDER</td>\n      <td>[nanga, wapolisi, ataphofomoka, masiku, ano, s...</td>\n      <td>2</td>\n    </tr>\n  </tbody>\n</table>\n</div>"
     },
     "metadata": {},
     "execution_count": 12
    }
   ],
   "source": [
    "# map category to target \n",
    "mapper = {}\n",
    "\n",
    "for i , category in enumerate(articles_train[\"Categories\"].unique()):\n",
    "    mapper[category] = i\n",
    "\n",
    "articles_train[\"category_target\"] = articles_train['Categories'].map(mapper)\n",
    "articles_train.head()"
   ]
  },
  {
   "cell_type": "code",
   "execution_count": 25,
   "metadata": {},
   "outputs": [
    {
     "output_type": "error",
     "ename": "AttributeError",
     "evalue": "'NoneType' object has no attribute 'countplot'",
     "traceback": [
      "\u001b[0;31m---------------------------------------------------------------------------\u001b[0m",
      "\u001b[0;31mAttributeError\u001b[0m                            Traceback (most recent call last)",
      "\u001b[0;32m<ipython-input-25-12b4c160f47f>\u001b[0m in \u001b[0;36m<module>\u001b[0;34m\u001b[0m\n\u001b[1;32m      1\u001b[0m \u001b[0;31m#plot of articles count per category\u001b[0m\u001b[0;34m\u001b[0m\u001b[0;34m\u001b[0m\u001b[0;34m\u001b[0m\u001b[0m\n\u001b[1;32m      2\u001b[0m \u001b[0;31m# articles_train.Categories.value_counts().plot.bar(figsize = (20,10), title = \"headlines based on category\")\u001b[0m\u001b[0;34m\u001b[0m\u001b[0;34m\u001b[0m\u001b[0;34m\u001b[0m\u001b[0m\n\u001b[0;32m----> 3\u001b[0;31m \u001b[0max\u001b[0m \u001b[0;34m=\u001b[0m \u001b[0msns\u001b[0m\u001b[0;34m.\u001b[0m\u001b[0mcountplot\u001b[0m\u001b[0;34m(\u001b[0m\u001b[0mx\u001b[0m\u001b[0;34m=\u001b[0m\u001b[0;34m\"Categories\"\u001b[0m\u001b[0;34m,\u001b[0m \u001b[0mdata\u001b[0m\u001b[0;34m=\u001b[0m\u001b[0marticles_train\u001b[0m\u001b[0;34m)\u001b[0m\u001b[0;34m\u001b[0m\u001b[0;34m\u001b[0m\u001b[0m\n\u001b[0m",
      "\u001b[0;31mAttributeError\u001b[0m: 'NoneType' object has no attribute 'countplot'"
     ]
    }
   ],
   "source": [
    "#plot of articles count per category\n",
    "# articles_train.Categories.value_counts().plot.bar(figsize = (20,10), title = \"headlines based on category\")\n",
    "ax = sns.countplot(x=\"Categories\", data=articles_train)"
   ]
  },
  {
   "cell_type": "code",
   "execution_count": 14,
   "metadata": {},
   "outputs": [
    {
     "output_type": "error",
     "ename": "AttributeError",
     "evalue": "'Series' object has no attribute 'indeSSx'",
     "traceback": [
      "\u001b[0;31m---------------------------------------------------------------------------\u001b[0m",
      "\u001b[0;31mAttributeError\u001b[0m                            Traceback (most recent call last)",
      "\u001b[0;32m<ipython-input-14-52aa2f45c4e1>\u001b[0m in \u001b[0;36m<module>\u001b[0;34m\u001b[0m\n\u001b[1;32m      2\u001b[0m \u001b[0mfig\u001b[0m \u001b[0;34m=\u001b[0m \u001b[0mplt\u001b[0m\u001b[0;34m.\u001b[0m\u001b[0mfigure\u001b[0m\u001b[0;34m(\u001b[0m\u001b[0mfigsize\u001b[0m\u001b[0;34m=\u001b[0m\u001b[0;34m(\u001b[0m\u001b[0;36m20\u001b[0m\u001b[0;34m,\u001b[0m\u001b[0;36m20\u001b[0m\u001b[0;34m)\u001b[0m\u001b[0;34m)\u001b[0m\u001b[0;34m\u001b[0m\u001b[0;34m\u001b[0m\u001b[0m\n\u001b[1;32m      3\u001b[0m plt.pie(articles_train['Categories'].value_counts().values, \n\u001b[0;32m----> 4\u001b[0;31m         \u001b[0mlabels\u001b[0m\u001b[0;34m=\u001b[0m\u001b[0marticles_train\u001b[0m\u001b[0;34m[\u001b[0m\u001b[0;34m'Categories'\u001b[0m\u001b[0;34m]\u001b[0m\u001b[0;34m.\u001b[0m\u001b[0mvalue_counts\u001b[0m\u001b[0;34m(\u001b[0m\u001b[0;34m)\u001b[0m\u001b[0;34m.\u001b[0m\u001b[0mindeSSx\u001b[0m\u001b[0;34m,\u001b[0m\u001b[0;34m\u001b[0m\u001b[0;34m\u001b[0m\u001b[0m\n\u001b[0m\u001b[1;32m      5\u001b[0m         autopct='%1.1f%%');\n",
      "\u001b[0;32m~/Documents/Python/venv/lib/python3.8/site-packages/pandas/core/generic.py\u001b[0m in \u001b[0;36m__getattr__\u001b[0;34m(self, name)\u001b[0m\n\u001b[1;32m   5460\u001b[0m             \u001b[0;32mif\u001b[0m \u001b[0mself\u001b[0m\u001b[0;34m.\u001b[0m\u001b[0m_info_axis\u001b[0m\u001b[0;34m.\u001b[0m\u001b[0m_can_hold_identifiers_and_holds_name\u001b[0m\u001b[0;34m(\u001b[0m\u001b[0mname\u001b[0m\u001b[0;34m)\u001b[0m\u001b[0;34m:\u001b[0m\u001b[0;34m\u001b[0m\u001b[0;34m\u001b[0m\u001b[0m\n\u001b[1;32m   5461\u001b[0m                 \u001b[0;32mreturn\u001b[0m \u001b[0mself\u001b[0m\u001b[0;34m[\u001b[0m\u001b[0mname\u001b[0m\u001b[0;34m]\u001b[0m\u001b[0;34m\u001b[0m\u001b[0;34m\u001b[0m\u001b[0m\n\u001b[0;32m-> 5462\u001b[0;31m             \u001b[0;32mreturn\u001b[0m \u001b[0mobject\u001b[0m\u001b[0;34m.\u001b[0m\u001b[0m__getattribute__\u001b[0m\u001b[0;34m(\u001b[0m\u001b[0mself\u001b[0m\u001b[0;34m,\u001b[0m \u001b[0mname\u001b[0m\u001b[0;34m)\u001b[0m\u001b[0;34m\u001b[0m\u001b[0;34m\u001b[0m\u001b[0m\n\u001b[0m\u001b[1;32m   5463\u001b[0m \u001b[0;34m\u001b[0m\u001b[0m\n\u001b[1;32m   5464\u001b[0m     \u001b[0;32mdef\u001b[0m \u001b[0m__setattr__\u001b[0m\u001b[0;34m(\u001b[0m\u001b[0mself\u001b[0m\u001b[0;34m,\u001b[0m \u001b[0mname\u001b[0m\u001b[0;34m:\u001b[0m \u001b[0mstr\u001b[0m\u001b[0;34m,\u001b[0m \u001b[0mvalue\u001b[0m\u001b[0;34m)\u001b[0m \u001b[0;34m->\u001b[0m \u001b[0;32mNone\u001b[0m\u001b[0;34m:\u001b[0m\u001b[0;34m\u001b[0m\u001b[0;34m\u001b[0m\u001b[0m\n",
      "\u001b[0;31mAttributeError\u001b[0m: 'Series' object has no attribute 'indeSSx'"
     ]
    }
   ],
   "source": [
    "#pie chat\n",
    "fig = plt.figure(figsize=(20,20))\n",
    "plt.pie(articles_train['Categories'].value_counts().values, \n",
    "        labels=articles_train['Categories'].value_counts().indeSSx,\n",
    "        autopct='%1.1f%%');\n"
   ]
  },
  {
   "cell_type": "code",
   "execution_count": null,
   "metadata": {},
   "outputs": [],
   "source": []
  }
 ]
}